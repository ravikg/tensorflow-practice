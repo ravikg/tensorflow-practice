{
 "cells": [
  {
   "cell_type": "markdown",
   "metadata": {},
   "source": [
    "## Matrix Multiplication\n",
    "Hello world tensorflow example for random matrix multiplication.\n",
    "[Source tutorial blog](https://medium.com/@erikhallstrm/hello-world-tensorflow-649b15aed18c)\n",
    "\n",
    "### IMPORTS"
   ]
  },
  {
   "cell_type": "code",
   "execution_count": 1,
   "metadata": {
    "collapsed": true
   },
   "outputs": [],
   "source": [
    "from __future__ import print_function\n",
    "import matplotlib\n",
    "import matplotlib.pyplot as plt\n",
    "import tensorflow as tf\n",
    "import time"
   ]
  },
  {
   "cell_type": "markdown",
   "metadata": {},
   "source": [
    "Function to matrix multiplication and return run time of the calculation  \n",
    "removed the GPU based calculation as I am working on mac and TensorFlow 1.2+ doesn't support GPU in mac"
   ]
  },
  {
   "cell_type": "code",
   "execution_count": 13,
   "metadata": {},
   "outputs": [],
   "source": [
    "def get_times(maximum_time):\n",
    "    \"\"\"Calculates time taken to multiply matrix using TensorFlow API\n",
    "       it stops when the matrix multiplication time is more than input maximum_time\n",
    "    \"\"\"\n",
    "    device_name =  \"/cpu:0\"\n",
    "    device_times = {\n",
    "        device_name:[]\n",
    "    }\n",
    "    # various matrix sizes\n",
    "    matrix_sizes = range(500,50000,50)\n",
    "\n",
    "    for size in matrix_sizes:\n",
    "        print(\"####### Calculating on the \" + device_name + \" ####### for size: \" + str(size))\n",
    "\n",
    "        shape = (size,size)\n",
    "        data_type = tf.float16\n",
    "        # Generate 2 tensor matrix of given size randomly using uniform distribution\n",
    "        # https://www.tensorflow.org/api_docs/python/tf/random_uniform\n",
    "        r1 = tf.random_uniform(shape=shape, minval=0, maxval=1, dtype=data_type)\n",
    "        r2 = tf.random_uniform(shape=shape, minval=0, maxval=1, dtype=data_type)\n",
    "\n",
    "        # Define matrix multiplication on the above generated matrix\n",
    "        # https://www.tensorflow.org/api_docs/python/tf/matmul\n",
    "        dot_operation = tf.matmul(r2, r1)\n",
    "\n",
    "        # Create a session where a graph or particular operation can be run\n",
    "        with tf.Session(config=tf.ConfigProto(log_device_placement=True)) as session:\n",
    "            start_time = time.time()\n",
    "            # Run the matrix multiplication operation\n",
    "            result = session.run(dot_operation)\n",
    "            time_taken = time.time() - start_time\n",
    "            # print(result)\n",
    "            device_times[device_name].append(time_taken)\n",
    "\n",
    "        # Print the time taken to run the current matrices multiplication operation\n",
    "        print(device_times)\n",
    "\n",
    "        # return when the matrix multiplication time exceeds the maximum time limit input\n",
    "        if time_taken > maximum_time:\n",
    "            return device_times, matrix_sizes\n"
   ]
  },
  {
   "cell_type": "code",
   "execution_count": 14,
   "metadata": {},
   "outputs": [
    {
     "name": "stdout",
     "output_type": "stream",
     "text": [
      "####### Calculating on the /cpu:0 ####### for size: 500\n",
      "{'/cpu:0': [0.7971220016479492]}\n",
      "####### Calculating on the /cpu:0 ####### for size: 550\n",
      "{'/cpu:0': [0.7971220016479492, 0.9182138442993164]}\n",
      "####### Calculating on the /cpu:0 ####### for size: 600\n",
      "{'/cpu:0': [0.7971220016479492, 0.9182138442993164, 1.132789134979248]}\n",
      "####### Calculating on the /cpu:0 ####### for size: 650\n",
      "{'/cpu:0': [0.7971220016479492, 0.9182138442993164, 1.132789134979248, 1.4084229469299316]}\n",
      "####### Calculating on the /cpu:0 ####### for size: 700\n",
      "{'/cpu:0': [0.7971220016479492, 0.9182138442993164, 1.132789134979248, 1.4084229469299316, 1.719778060913086]}\n"
     ]
    },
    {
     "data": {
      "image/png": "[encoded data removed]",
      "text/plain": [
       "<matplotlib.figure.Figure at 0x10f80bc18>"
      ]
     },
     "metadata": {},
     "output_type": "display_data"
    }
   ],
   "source": [
    "device_times, matrix_sizes = get_times(1.5)\n",
    "cpu_times = device_times[\"/cpu:0\"]\n",
    "\n",
    "plt.plot(matrix_sizes[:len(cpu_times)], cpu_times, 'o-')\n",
    "plt.ylabel('Time')\n",
    "plt.xlabel('Matrix size')\n",
    "plt.show()"
   ]
  },
  {
   "cell_type": "code",
   "execution_count": null,
   "metadata": {
    "collapsed": true
   },
   "outputs": [],
   "source": []
  }
 ],
 "metadata": {
  "kernelspec": {
   "display_name": "Python 3",
   "language": "python",
   "name": "python3"
  },
  "language_info": {
   "codemirror_mode": {
    "name": "ipython",
    "version": 3
   },
   "file_extension": ".py",
   "mimetype": "text/x-python",
   "name": "python",
   "nbconvert_exporter": "python",
   "pygments_lexer": "ipython3",
   "version": "3.6.1"
  }
 },
 "nbformat": 4,
 "nbformat_minor": 2
}
